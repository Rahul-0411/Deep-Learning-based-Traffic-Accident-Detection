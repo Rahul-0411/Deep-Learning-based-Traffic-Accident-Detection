{
 "cells": [
  {
   "cell_type": "code",
   "execution_count": null,
   "id": "35a19bb5-0af5-45ed-b510-5d27c9ab2492",
   "metadata": {},
   "outputs": [],
   "source": [
    "import tensorflow as tf\n",
    "from tensorflow.keras.models import load_model\n",
    "\n",
    "\n",
    "model = load_model(r\"C:\\Users\\Atharva\\Downloads\\train1.h5\")\n",
    "print(\"✅ Model Loaded Successfully!\")\n",
    "import numpy as np\n",
    "import cv2\n",
    "from tensorflow.keras.preprocessing import image\n",
    "\n",
    "def preprocess_image(image_path):\n",
    "    img = image.load_img(image_path, target_size=(224, 224))  \n",
    "    img_array = image.img_to_array(img) \n",
    "    img_array = np.expand_dims(img_array, axis=0)  \n",
    "    img_array = img_array / 255.0  \n",
    "    return img_array\n",
    "def predict_accident(image_path):\n",
    "    img_array = preprocess_image(image_path)\n",
    "    prediction = model.predict(img_array)\n",
    "    \n",
    "    if prediction[0][0] > 0.5:\n",
    "        print(\"🟢 Predicted: Non-Accident\")\n",
    "    else:\n",
    "        print(\"🔴 Predicted: Accident\")\n",
    "\n",
    "# Test with a custom image\n",
    "image_path = \"C:\\\\BE Project\\\\Accident detection\\\\YoloCNN\\\\NON\\\\frame0026.jpg\"\n",
    "predict_accident(image_path)"
   ]
  }
 ],
 "metadata": {
  "kernelspec": {
   "display_name": "Python 3 (ipykernel)",
   "language": "python",
   "name": "python3"
  },
  "language_info": {
   "codemirror_mode": {
    "name": "ipython",
    "version": 3
   },
   "file_extension": ".py",
   "mimetype": "text/x-python",
   "name": "python",
   "nbconvert_exporter": "python",
   "pygments_lexer": "ipython3",
   "version": "3.12.3"
  }
 },
 "nbformat": 4,
 "nbformat_minor": 5
}
